{
 "cells": [
  {
   "cell_type": "code",
   "execution_count": 1,
   "metadata": {},
   "outputs": [],
   "source": [
    "import pandas as pd\n",
    "import matplotlib.pyplot as plt\n",
    "import seaborn as sns\n",
    "import os\n"
   ]
  },
  {
   "cell_type": "code",
   "execution_count": 2,
   "metadata": {},
   "outputs": [
    {
     "name": "stderr",
     "output_type": "stream",
     "text": [
      "/Users/jjobes/opt/anaconda3/lib/python3.8/site-packages/IPython/core/interactiveshell.py:3071: DtypeWarning: Columns (19) have mixed types.Specify dtype option on import or set low_memory=False.\n",
      "  has_raised = await self.run_ast_nodes(code_ast.body, cell_name,\n"
     ]
    },
    {
     "data": {
      "text/plain": [
       "(29999, 151)"
      ]
     },
     "execution_count": 2,
     "metadata": {},
     "output_type": "execute_result"
    }
   ],
   "source": [
    "loan_data = pd.read_csv('accepted_2007_to_2018Q4_Copy.csv')\n",
    "loan_data.shape"
   ]
  },
  {
   "cell_type": "markdown",
   "metadata": {},
   "source": [
    "Columns (0,19,49,59,118,129,130,131,134,135,136,139,145,146,147) have mixed types"
   ]
  },
  {
   "cell_type": "code",
   "execution_count": 3,
   "metadata": {},
   "outputs": [
    {
     "data": {
      "text/html": [
       "<div>\n",
       "<style scoped>\n",
       "    .dataframe tbody tr th:only-of-type {\n",
       "        vertical-align: middle;\n",
       "    }\n",
       "\n",
       "    .dataframe tbody tr th {\n",
       "        vertical-align: top;\n",
       "    }\n",
       "\n",
       "    .dataframe thead th {\n",
       "        text-align: right;\n",
       "    }\n",
       "</style>\n",
       "<table border=\"1\" class=\"dataframe\">\n",
       "  <thead>\n",
       "    <tr style=\"text-align: right;\">\n",
       "      <th></th>\n",
       "      <th>count</th>\n",
       "      <th>%</th>\n",
       "    </tr>\n",
       "  </thead>\n",
       "  <tbody>\n",
       "    <tr>\n",
       "      <th>id</th>\n",
       "      <td>0</td>\n",
       "      <td>0.0</td>\n",
       "    </tr>\n",
       "    <tr>\n",
       "      <th>pct_tl_nvr_dlq</th>\n",
       "      <td>0</td>\n",
       "      <td>0.0</td>\n",
       "    </tr>\n",
       "    <tr>\n",
       "      <th>tot_cur_bal</th>\n",
       "      <td>0</td>\n",
       "      <td>0.0</td>\n",
       "    </tr>\n",
       "    <tr>\n",
       "      <th>tot_coll_amt</th>\n",
       "      <td>0</td>\n",
       "      <td>0.0</td>\n",
       "    </tr>\n",
       "    <tr>\n",
       "      <th>acc_now_delinq</th>\n",
       "      <td>0</td>\n",
       "      <td>0.0</td>\n",
       "    </tr>\n",
       "    <tr>\n",
       "      <th>...</th>\n",
       "      <td>...</td>\n",
       "      <td>...</td>\n",
       "    </tr>\n",
       "    <tr>\n",
       "      <th>sec_app_open_acc</th>\n",
       "      <td>29999</td>\n",
       "      <td>100.0</td>\n",
       "    </tr>\n",
       "    <tr>\n",
       "      <th>sec_app_mort_acc</th>\n",
       "      <td>29999</td>\n",
       "      <td>100.0</td>\n",
       "    </tr>\n",
       "    <tr>\n",
       "      <th>sec_app_inq_last_6mths</th>\n",
       "      <td>29999</td>\n",
       "      <td>100.0</td>\n",
       "    </tr>\n",
       "    <tr>\n",
       "      <th>sec_app_fico_range_high</th>\n",
       "      <td>29999</td>\n",
       "      <td>100.0</td>\n",
       "    </tr>\n",
       "    <tr>\n",
       "      <th>sec_app_revol_util</th>\n",
       "      <td>29999</td>\n",
       "      <td>100.0</td>\n",
       "    </tr>\n",
       "  </tbody>\n",
       "</table>\n",
       "<p>151 rows × 2 columns</p>\n",
       "</div>"
      ],
      "text/plain": [
       "                         count      %\n",
       "id                           0    0.0\n",
       "pct_tl_nvr_dlq               0    0.0\n",
       "tot_cur_bal                  0    0.0\n",
       "tot_coll_amt                 0    0.0\n",
       "acc_now_delinq               0    0.0\n",
       "...                        ...    ...\n",
       "sec_app_open_acc         29999  100.0\n",
       "sec_app_mort_acc         29999  100.0\n",
       "sec_app_inq_last_6mths   29999  100.0\n",
       "sec_app_fico_range_high  29999  100.0\n",
       "sec_app_revol_util       29999  100.0\n",
       "\n",
       "[151 rows x 2 columns]"
      ]
     },
     "execution_count": 3,
     "metadata": {},
     "output_type": "execute_result"
    }
   ],
   "source": [
    "# find missing values for each column\n",
    "\n",
    "\n",
    "missing = pd.concat([loan_data.isnull().sum(), 100 * loan_data.isnull().mean()], axis=1)\n",
    "missing.columns=['count', '%']\n",
    "missing.sort_values(by='count')\n"
   ]
  },
  {
   "cell_type": "code",
   "execution_count": 4,
   "metadata": {},
   "outputs": [
    {
     "name": "stdout",
     "output_type": "stream",
     "text": [
      "['member_id', 'emp_title', 'emp_length', 'desc', 'mths_since_last_delinq', 'mths_since_last_record', 'next_pymnt_d', 'mths_since_last_major_derog', 'annual_inc_joint', 'dti_joint', 'verification_status_joint', 'open_acc_6m', 'open_act_il', 'open_il_12m', 'open_il_24m', 'mths_since_rcnt_il', 'total_bal_il', 'il_util', 'open_rv_12m', 'open_rv_24m', 'max_bal_bc', 'all_util', 'inq_fi', 'total_cu_tl', 'inq_last_12m', 'bc_util', 'mo_sin_old_il_acct', 'mths_since_recent_bc_dlq', 'mths_since_recent_inq', 'mths_since_recent_revol_delinq', 'num_tl_120dpd_2m', 'percent_bc_gt_75', 'revol_bal_joint', 'sec_app_fico_range_low', 'sec_app_fico_range_high', 'sec_app_earliest_cr_line', 'sec_app_inq_last_6mths', 'sec_app_mort_acc', 'sec_app_open_acc', 'sec_app_revol_util', 'sec_app_open_act_il', 'sec_app_num_rev_accts', 'sec_app_chargeoff_within_12_mths', 'sec_app_collections_12_mths_ex_med', 'sec_app_mths_since_last_major_derog', 'hardship_type', 'hardship_reason', 'hardship_status', 'deferral_term', 'hardship_amount', 'hardship_start_date', 'hardship_end_date', 'payment_plan_start_date', 'hardship_length', 'hardship_dpd', 'hardship_loan_status', 'orig_projected_additional_accrued_interest', 'hardship_payoff_balance_amount', 'hardship_last_payment_amount', 'debt_settlement_flag_date', 'settlement_status', 'settlement_date', 'settlement_amount', 'settlement_percentage', 'settlement_term']\n"
     ]
    }
   ],
   "source": [
    "# define list of columns with a large amount of missing values\n",
    "\n",
    "large_null_columns = missing[missing['%'] > 0.99] \n",
    "large_null_columns.reset_index(inplace=True)\n",
    "large_null_columns.columns\n",
    "\n",
    "columns_to_drop = list(large_null_columns['index'])\n",
    "print(columns_to_drop)"
   ]
  },
  {
   "cell_type": "code",
   "execution_count": 5,
   "metadata": {},
   "outputs": [
    {
     "data": {
      "text/plain": [
       "(29999, 86)"
      ]
     },
     "execution_count": 5,
     "metadata": {},
     "output_type": "execute_result"
    }
   ],
   "source": [
    "# drop these columns\n",
    "\n",
    "new_data = loan_data.drop(columns_to_drop, axis=1)\n",
    "new_data.shape"
   ]
  },
  {
   "cell_type": "markdown",
   "metadata": {},
   "source": [
    "Start looking at each column and getting it into a numerical format I can start analyzing"
   ]
  },
  {
   "cell_type": "code",
   "execution_count": 6,
   "metadata": {
    "scrolled": true
   },
   "outputs": [
    {
     "data": {
      "text/html": [
       "<div>\n",
       "<style scoped>\n",
       "    .dataframe tbody tr th:only-of-type {\n",
       "        vertical-align: middle;\n",
       "    }\n",
       "\n",
       "    .dataframe tbody tr th {\n",
       "        vertical-align: top;\n",
       "    }\n",
       "\n",
       "    .dataframe thead th {\n",
       "        text-align: right;\n",
       "    }\n",
       "</style>\n",
       "<table border=\"1\" class=\"dataframe\">\n",
       "  <thead>\n",
       "    <tr style=\"text-align: right;\">\n",
       "      <th></th>\n",
       "      <th>id</th>\n",
       "      <th>loan_amnt</th>\n",
       "      <th>funded_amnt</th>\n",
       "      <th>funded_amnt_inv</th>\n",
       "      <th>term</th>\n",
       "      <th>int_rate</th>\n",
       "      <th>installment</th>\n",
       "      <th>grade</th>\n",
       "      <th>sub_grade</th>\n",
       "      <th>home_ownership</th>\n",
       "      <th>...</th>\n",
       "      <th>pct_tl_nvr_dlq</th>\n",
       "      <th>pub_rec_bankruptcies</th>\n",
       "      <th>tax_liens</th>\n",
       "      <th>tot_hi_cred_lim</th>\n",
       "      <th>total_bal_ex_mort</th>\n",
       "      <th>total_bc_limit</th>\n",
       "      <th>total_il_high_credit_limit</th>\n",
       "      <th>hardship_flag</th>\n",
       "      <th>disbursement_method</th>\n",
       "      <th>debt_settlement_flag</th>\n",
       "    </tr>\n",
       "  </thead>\n",
       "  <tbody>\n",
       "    <tr>\n",
       "      <th>0</th>\n",
       "      <td>68407277</td>\n",
       "      <td>3600</td>\n",
       "      <td>3600</td>\n",
       "      <td>3600</td>\n",
       "      <td>36 months</td>\n",
       "      <td>13.99</td>\n",
       "      <td>123.03</td>\n",
       "      <td>C</td>\n",
       "      <td>C4</td>\n",
       "      <td>MORTGAGE</td>\n",
       "      <td>...</td>\n",
       "      <td>76.9</td>\n",
       "      <td>0</td>\n",
       "      <td>0</td>\n",
       "      <td>178050</td>\n",
       "      <td>7746</td>\n",
       "      <td>2400</td>\n",
       "      <td>13734</td>\n",
       "      <td>N</td>\n",
       "      <td>Cash</td>\n",
       "      <td>N</td>\n",
       "    </tr>\n",
       "    <tr>\n",
       "      <th>1</th>\n",
       "      <td>68355089</td>\n",
       "      <td>24700</td>\n",
       "      <td>24700</td>\n",
       "      <td>24700</td>\n",
       "      <td>36 months</td>\n",
       "      <td>11.99</td>\n",
       "      <td>820.28</td>\n",
       "      <td>C</td>\n",
       "      <td>C1</td>\n",
       "      <td>MORTGAGE</td>\n",
       "      <td>...</td>\n",
       "      <td>97.4</td>\n",
       "      <td>0</td>\n",
       "      <td>0</td>\n",
       "      <td>314017</td>\n",
       "      <td>39475</td>\n",
       "      <td>79300</td>\n",
       "      <td>24667</td>\n",
       "      <td>N</td>\n",
       "      <td>Cash</td>\n",
       "      <td>N</td>\n",
       "    </tr>\n",
       "    <tr>\n",
       "      <th>2</th>\n",
       "      <td>68341763</td>\n",
       "      <td>20000</td>\n",
       "      <td>20000</td>\n",
       "      <td>20000</td>\n",
       "      <td>60 months</td>\n",
       "      <td>10.78</td>\n",
       "      <td>432.66</td>\n",
       "      <td>B</td>\n",
       "      <td>B4</td>\n",
       "      <td>MORTGAGE</td>\n",
       "      <td>...</td>\n",
       "      <td>100.0</td>\n",
       "      <td>0</td>\n",
       "      <td>0</td>\n",
       "      <td>218418</td>\n",
       "      <td>18696</td>\n",
       "      <td>6200</td>\n",
       "      <td>14877</td>\n",
       "      <td>N</td>\n",
       "      <td>Cash</td>\n",
       "      <td>N</td>\n",
       "    </tr>\n",
       "    <tr>\n",
       "      <th>3</th>\n",
       "      <td>66310712</td>\n",
       "      <td>35000</td>\n",
       "      <td>35000</td>\n",
       "      <td>35000</td>\n",
       "      <td>60 months</td>\n",
       "      <td>14.85</td>\n",
       "      <td>829.90</td>\n",
       "      <td>C</td>\n",
       "      <td>C5</td>\n",
       "      <td>MORTGAGE</td>\n",
       "      <td>...</td>\n",
       "      <td>100.0</td>\n",
       "      <td>0</td>\n",
       "      <td>0</td>\n",
       "      <td>381215</td>\n",
       "      <td>52226</td>\n",
       "      <td>62500</td>\n",
       "      <td>18000</td>\n",
       "      <td>N</td>\n",
       "      <td>Cash</td>\n",
       "      <td>N</td>\n",
       "    </tr>\n",
       "    <tr>\n",
       "      <th>4</th>\n",
       "      <td>68476807</td>\n",
       "      <td>10400</td>\n",
       "      <td>10400</td>\n",
       "      <td>10400</td>\n",
       "      <td>60 months</td>\n",
       "      <td>22.45</td>\n",
       "      <td>289.91</td>\n",
       "      <td>F</td>\n",
       "      <td>F1</td>\n",
       "      <td>MORTGAGE</td>\n",
       "      <td>...</td>\n",
       "      <td>96.6</td>\n",
       "      <td>0</td>\n",
       "      <td>0</td>\n",
       "      <td>439570</td>\n",
       "      <td>95768</td>\n",
       "      <td>20300</td>\n",
       "      <td>88097</td>\n",
       "      <td>N</td>\n",
       "      <td>Cash</td>\n",
       "      <td>N</td>\n",
       "    </tr>\n",
       "  </tbody>\n",
       "</table>\n",
       "<p>5 rows × 86 columns</p>\n",
       "</div>"
      ],
      "text/plain": [
       "         id  loan_amnt  funded_amnt  funded_amnt_inv        term  int_rate  \\\n",
       "0  68407277       3600         3600             3600   36 months     13.99   \n",
       "1  68355089      24700        24700            24700   36 months     11.99   \n",
       "2  68341763      20000        20000            20000   60 months     10.78   \n",
       "3  66310712      35000        35000            35000   60 months     14.85   \n",
       "4  68476807      10400        10400            10400   60 months     22.45   \n",
       "\n",
       "   installment grade sub_grade home_ownership  ...  pct_tl_nvr_dlq  \\\n",
       "0       123.03     C        C4       MORTGAGE  ...            76.9   \n",
       "1       820.28     C        C1       MORTGAGE  ...            97.4   \n",
       "2       432.66     B        B4       MORTGAGE  ...           100.0   \n",
       "3       829.90     C        C5       MORTGAGE  ...           100.0   \n",
       "4       289.91     F        F1       MORTGAGE  ...            96.6   \n",
       "\n",
       "  pub_rec_bankruptcies tax_liens tot_hi_cred_lim total_bal_ex_mort  \\\n",
       "0                    0         0          178050              7746   \n",
       "1                    0         0          314017             39475   \n",
       "2                    0         0          218418             18696   \n",
       "3                    0         0          381215             52226   \n",
       "4                    0         0          439570             95768   \n",
       "\n",
       "  total_bc_limit total_il_high_credit_limit hardship_flag disbursement_method  \\\n",
       "0           2400                      13734             N                Cash   \n",
       "1          79300                      24667             N                Cash   \n",
       "2           6200                      14877             N                Cash   \n",
       "3          62500                      18000             N                Cash   \n",
       "4          20300                      88097             N                Cash   \n",
       "\n",
       "  debt_settlement_flag  \n",
       "0                    N  \n",
       "1                    N  \n",
       "2                    N  \n",
       "3                    N  \n",
       "4                    N  \n",
       "\n",
       "[5 rows x 86 columns]"
      ]
     },
     "execution_count": 6,
     "metadata": {},
     "output_type": "execute_result"
    }
   ],
   "source": [
    "new_data.head()"
   ]
  },
  {
   "cell_type": "code",
   "execution_count": 7,
   "metadata": {},
   "outputs": [
    {
     "data": {
      "text/plain": [
       "count    29999.000000\n",
       "mean     15000.318344\n",
       "std       8709.659995\n",
       "min       1000.000000\n",
       "25%       8000.000000\n",
       "50%      13950.000000\n",
       "75%      20000.000000\n",
       "max      35000.000000\n",
       "Name: loan_amnt, dtype: float64"
      ]
     },
     "execution_count": 7,
     "metadata": {},
     "output_type": "execute_result"
    }
   ],
   "source": [
    "# all rows have loan amounts. loan amounts range from $35,000 to $1,000.\n",
    "# nothing more to investigate on this column\n",
    "\n",
    "new_data['loan_amnt'].describe()"
   ]
  },
  {
   "cell_type": "code",
   "execution_count": 8,
   "metadata": {},
   "outputs": [],
   "source": [
    "# all loan amounts = funded amount. No need to have duplicate data so drop funded amount and the c. \n",
    "# funded_amount_inv doesnt always equal loan_amount so I will leave this column\n",
    "\n",
    "#new_data['funded_amnt'].describe()\n",
    "\n",
    "#new_data['diff_loan_funded'] = new_data['loan_amnt'] - new_data['funded_amnt']\n",
    "#new_data['diff_loan_funded'].describe()\n",
    "\n",
    "new_data.drop(columns=['funded_amnt'], axis=1, inplace=True)"
   ]
  },
  {
   "cell_type": "code",
   "execution_count": 9,
   "metadata": {},
   "outputs": [
    {
     "data": {
      "text/plain": [
       "(29999, 85)"
      ]
     },
     "execution_count": 9,
     "metadata": {},
     "output_type": "execute_result"
    }
   ],
   "source": [
    "new_data.shape"
   ]
  },
  {
   "cell_type": "code",
   "execution_count": 10,
   "metadata": {},
   "outputs": [
    {
     "data": {
      "text/html": [
       "<div>\n",
       "<style scoped>\n",
       "    .dataframe tbody tr th:only-of-type {\n",
       "        vertical-align: middle;\n",
       "    }\n",
       "\n",
       "    .dataframe tbody tr th {\n",
       "        vertical-align: top;\n",
       "    }\n",
       "\n",
       "    .dataframe thead th {\n",
       "        text-align: right;\n",
       "    }\n",
       "</style>\n",
       "<table border=\"1\" class=\"dataframe\">\n",
       "  <thead>\n",
       "    <tr style=\"text-align: right;\">\n",
       "      <th></th>\n",
       "      <th>id</th>\n",
       "      <th>loan_amnt</th>\n",
       "      <th>funded_amnt_inv</th>\n",
       "      <th>term</th>\n",
       "      <th>int_rate</th>\n",
       "      <th>installment</th>\n",
       "      <th>grade</th>\n",
       "      <th>sub_grade</th>\n",
       "      <th>home_ownership</th>\n",
       "      <th>annual_inc</th>\n",
       "      <th>...</th>\n",
       "      <th>pct_tl_nvr_dlq</th>\n",
       "      <th>pub_rec_bankruptcies</th>\n",
       "      <th>tax_liens</th>\n",
       "      <th>tot_hi_cred_lim</th>\n",
       "      <th>total_bal_ex_mort</th>\n",
       "      <th>total_bc_limit</th>\n",
       "      <th>total_il_high_credit_limit</th>\n",
       "      <th>hardship_flag</th>\n",
       "      <th>disbursement_method</th>\n",
       "      <th>debt_settlement_flag</th>\n",
       "    </tr>\n",
       "  </thead>\n",
       "  <tbody>\n",
       "    <tr>\n",
       "      <th>0</th>\n",
       "      <td>68407277</td>\n",
       "      <td>3600</td>\n",
       "      <td>3600</td>\n",
       "      <td>36 months</td>\n",
       "      <td>13.99</td>\n",
       "      <td>123.03</td>\n",
       "      <td>C</td>\n",
       "      <td>C4</td>\n",
       "      <td>MORTGAGE</td>\n",
       "      <td>55000.0</td>\n",
       "      <td>...</td>\n",
       "      <td>76.9</td>\n",
       "      <td>0</td>\n",
       "      <td>0</td>\n",
       "      <td>178050</td>\n",
       "      <td>7746</td>\n",
       "      <td>2400</td>\n",
       "      <td>13734</td>\n",
       "      <td>N</td>\n",
       "      <td>Cash</td>\n",
       "      <td>N</td>\n",
       "    </tr>\n",
       "    <tr>\n",
       "      <th>1</th>\n",
       "      <td>68355089</td>\n",
       "      <td>24700</td>\n",
       "      <td>24700</td>\n",
       "      <td>36 months</td>\n",
       "      <td>11.99</td>\n",
       "      <td>820.28</td>\n",
       "      <td>C</td>\n",
       "      <td>C1</td>\n",
       "      <td>MORTGAGE</td>\n",
       "      <td>65000.0</td>\n",
       "      <td>...</td>\n",
       "      <td>97.4</td>\n",
       "      <td>0</td>\n",
       "      <td>0</td>\n",
       "      <td>314017</td>\n",
       "      <td>39475</td>\n",
       "      <td>79300</td>\n",
       "      <td>24667</td>\n",
       "      <td>N</td>\n",
       "      <td>Cash</td>\n",
       "      <td>N</td>\n",
       "    </tr>\n",
       "    <tr>\n",
       "      <th>2</th>\n",
       "      <td>68341763</td>\n",
       "      <td>20000</td>\n",
       "      <td>20000</td>\n",
       "      <td>60 months</td>\n",
       "      <td>10.78</td>\n",
       "      <td>432.66</td>\n",
       "      <td>B</td>\n",
       "      <td>B4</td>\n",
       "      <td>MORTGAGE</td>\n",
       "      <td>63000.0</td>\n",
       "      <td>...</td>\n",
       "      <td>100.0</td>\n",
       "      <td>0</td>\n",
       "      <td>0</td>\n",
       "      <td>218418</td>\n",
       "      <td>18696</td>\n",
       "      <td>6200</td>\n",
       "      <td>14877</td>\n",
       "      <td>N</td>\n",
       "      <td>Cash</td>\n",
       "      <td>N</td>\n",
       "    </tr>\n",
       "    <tr>\n",
       "      <th>3</th>\n",
       "      <td>66310712</td>\n",
       "      <td>35000</td>\n",
       "      <td>35000</td>\n",
       "      <td>60 months</td>\n",
       "      <td>14.85</td>\n",
       "      <td>829.90</td>\n",
       "      <td>C</td>\n",
       "      <td>C5</td>\n",
       "      <td>MORTGAGE</td>\n",
       "      <td>110000.0</td>\n",
       "      <td>...</td>\n",
       "      <td>100.0</td>\n",
       "      <td>0</td>\n",
       "      <td>0</td>\n",
       "      <td>381215</td>\n",
       "      <td>52226</td>\n",
       "      <td>62500</td>\n",
       "      <td>18000</td>\n",
       "      <td>N</td>\n",
       "      <td>Cash</td>\n",
       "      <td>N</td>\n",
       "    </tr>\n",
       "    <tr>\n",
       "      <th>4</th>\n",
       "      <td>68476807</td>\n",
       "      <td>10400</td>\n",
       "      <td>10400</td>\n",
       "      <td>60 months</td>\n",
       "      <td>22.45</td>\n",
       "      <td>289.91</td>\n",
       "      <td>F</td>\n",
       "      <td>F1</td>\n",
       "      <td>MORTGAGE</td>\n",
       "      <td>104433.0</td>\n",
       "      <td>...</td>\n",
       "      <td>96.6</td>\n",
       "      <td>0</td>\n",
       "      <td>0</td>\n",
       "      <td>439570</td>\n",
       "      <td>95768</td>\n",
       "      <td>20300</td>\n",
       "      <td>88097</td>\n",
       "      <td>N</td>\n",
       "      <td>Cash</td>\n",
       "      <td>N</td>\n",
       "    </tr>\n",
       "  </tbody>\n",
       "</table>\n",
       "<p>5 rows × 85 columns</p>\n",
       "</div>"
      ],
      "text/plain": [
       "         id  loan_amnt  funded_amnt_inv        term  int_rate  installment  \\\n",
       "0  68407277       3600             3600   36 months     13.99       123.03   \n",
       "1  68355089      24700            24700   36 months     11.99       820.28   \n",
       "2  68341763      20000            20000   60 months     10.78       432.66   \n",
       "3  66310712      35000            35000   60 months     14.85       829.90   \n",
       "4  68476807      10400            10400   60 months     22.45       289.91   \n",
       "\n",
       "  grade sub_grade home_ownership  annual_inc  ... pct_tl_nvr_dlq  \\\n",
       "0     C        C4       MORTGAGE     55000.0  ...           76.9   \n",
       "1     C        C1       MORTGAGE     65000.0  ...           97.4   \n",
       "2     B        B4       MORTGAGE     63000.0  ...          100.0   \n",
       "3     C        C5       MORTGAGE    110000.0  ...          100.0   \n",
       "4     F        F1       MORTGAGE    104433.0  ...           96.6   \n",
       "\n",
       "  pub_rec_bankruptcies tax_liens tot_hi_cred_lim total_bal_ex_mort  \\\n",
       "0                    0         0          178050              7746   \n",
       "1                    0         0          314017             39475   \n",
       "2                    0         0          218418             18696   \n",
       "3                    0         0          381215             52226   \n",
       "4                    0         0          439570             95768   \n",
       "\n",
       "  total_bc_limit total_il_high_credit_limit hardship_flag disbursement_method  \\\n",
       "0           2400                      13734             N                Cash   \n",
       "1          79300                      24667             N                Cash   \n",
       "2           6200                      14877             N                Cash   \n",
       "3          62500                      18000             N                Cash   \n",
       "4          20300                      88097             N                Cash   \n",
       "\n",
       "   debt_settlement_flag  \n",
       "0                     N  \n",
       "1                     N  \n",
       "2                     N  \n",
       "3                     N  \n",
       "4                     N  \n",
       "\n",
       "[5 rows x 85 columns]"
      ]
     },
     "execution_count": 10,
     "metadata": {},
     "output_type": "execute_result"
    }
   ],
   "source": [
    "new_data.head()"
   ]
  },
  {
   "cell_type": "code",
   "execution_count": 11,
   "metadata": {},
   "outputs": [
    {
     "data": {
      "text/plain": [
       "array([' 36 months', ' 60 months'], dtype=object)"
      ]
     },
     "execution_count": 11,
     "metadata": {},
     "output_type": "execute_result"
    }
   ],
   "source": [
    "new_data.term.unique()"
   ]
  },
  {
   "cell_type": "code",
   "execution_count": 12,
   "metadata": {},
   "outputs": [
    {
     "data": {
      "text/plain": [
       " 36 months    20662\n",
       " 60 months     9337\n",
       "Name: term, dtype: int64"
      ]
     },
     "execution_count": 12,
     "metadata": {},
     "output_type": "execute_result"
    }
   ],
   "source": [
    "new_data['term'].value_counts()"
   ]
  },
  {
   "cell_type": "code",
   "execution_count": 13,
   "metadata": {},
   "outputs": [
    {
     "data": {
      "text/plain": [
       "0        36\n",
       "1        36\n",
       "2        60\n",
       "3        60\n",
       "4        60\n",
       "         ..\n",
       "29994    36\n",
       "29995    36\n",
       "29996    36\n",
       "29997    36\n",
       "29998    36\n",
       "Name: term, Length: 29999, dtype: object"
      ]
     },
     "execution_count": 13,
     "metadata": {},
     "output_type": "execute_result"
    }
   ],
   "source": [
    "# most of the loans are 36 month term loans\n",
    "# remove white space and 'months' in values\n",
    "\n",
    "new_data['term'] = new_data.term.str.replace('months,?' , '')\n",
    "\n",
    "new_data['term'].str.strip()"
   ]
  },
  {
   "cell_type": "code",
   "execution_count": 14,
   "metadata": {},
   "outputs": [
    {
     "data": {
      "text/html": [
       "<div>\n",
       "<style scoped>\n",
       "    .dataframe tbody tr th:only-of-type {\n",
       "        vertical-align: middle;\n",
       "    }\n",
       "\n",
       "    .dataframe tbody tr th {\n",
       "        vertical-align: top;\n",
       "    }\n",
       "\n",
       "    .dataframe thead th {\n",
       "        text-align: right;\n",
       "    }\n",
       "</style>\n",
       "<table border=\"1\" class=\"dataframe\">\n",
       "  <thead>\n",
       "    <tr style=\"text-align: right;\">\n",
       "      <th></th>\n",
       "      <th>id</th>\n",
       "      <th>loan_amnt</th>\n",
       "      <th>funded_amnt_inv</th>\n",
       "      <th>term</th>\n",
       "      <th>int_rate</th>\n",
       "      <th>installment</th>\n",
       "      <th>grade</th>\n",
       "      <th>sub_grade</th>\n",
       "      <th>home_ownership</th>\n",
       "      <th>annual_inc</th>\n",
       "      <th>...</th>\n",
       "      <th>pct_tl_nvr_dlq</th>\n",
       "      <th>pub_rec_bankruptcies</th>\n",
       "      <th>tax_liens</th>\n",
       "      <th>tot_hi_cred_lim</th>\n",
       "      <th>total_bal_ex_mort</th>\n",
       "      <th>total_bc_limit</th>\n",
       "      <th>total_il_high_credit_limit</th>\n",
       "      <th>hardship_flag</th>\n",
       "      <th>disbursement_method</th>\n",
       "      <th>debt_settlement_flag</th>\n",
       "    </tr>\n",
       "  </thead>\n",
       "  <tbody>\n",
       "    <tr>\n",
       "      <th>0</th>\n",
       "      <td>68407277</td>\n",
       "      <td>3600</td>\n",
       "      <td>3600</td>\n",
       "      <td>36</td>\n",
       "      <td>13.99</td>\n",
       "      <td>123.03</td>\n",
       "      <td>C</td>\n",
       "      <td>C4</td>\n",
       "      <td>MORTGAGE</td>\n",
       "      <td>55000.0</td>\n",
       "      <td>...</td>\n",
       "      <td>76.9</td>\n",
       "      <td>0</td>\n",
       "      <td>0</td>\n",
       "      <td>178050</td>\n",
       "      <td>7746</td>\n",
       "      <td>2400</td>\n",
       "      <td>13734</td>\n",
       "      <td>N</td>\n",
       "      <td>Cash</td>\n",
       "      <td>N</td>\n",
       "    </tr>\n",
       "    <tr>\n",
       "      <th>1</th>\n",
       "      <td>68355089</td>\n",
       "      <td>24700</td>\n",
       "      <td>24700</td>\n",
       "      <td>36</td>\n",
       "      <td>11.99</td>\n",
       "      <td>820.28</td>\n",
       "      <td>C</td>\n",
       "      <td>C1</td>\n",
       "      <td>MORTGAGE</td>\n",
       "      <td>65000.0</td>\n",
       "      <td>...</td>\n",
       "      <td>97.4</td>\n",
       "      <td>0</td>\n",
       "      <td>0</td>\n",
       "      <td>314017</td>\n",
       "      <td>39475</td>\n",
       "      <td>79300</td>\n",
       "      <td>24667</td>\n",
       "      <td>N</td>\n",
       "      <td>Cash</td>\n",
       "      <td>N</td>\n",
       "    </tr>\n",
       "    <tr>\n",
       "      <th>2</th>\n",
       "      <td>68341763</td>\n",
       "      <td>20000</td>\n",
       "      <td>20000</td>\n",
       "      <td>60</td>\n",
       "      <td>10.78</td>\n",
       "      <td>432.66</td>\n",
       "      <td>B</td>\n",
       "      <td>B4</td>\n",
       "      <td>MORTGAGE</td>\n",
       "      <td>63000.0</td>\n",
       "      <td>...</td>\n",
       "      <td>100.0</td>\n",
       "      <td>0</td>\n",
       "      <td>0</td>\n",
       "      <td>218418</td>\n",
       "      <td>18696</td>\n",
       "      <td>6200</td>\n",
       "      <td>14877</td>\n",
       "      <td>N</td>\n",
       "      <td>Cash</td>\n",
       "      <td>N</td>\n",
       "    </tr>\n",
       "    <tr>\n",
       "      <th>3</th>\n",
       "      <td>66310712</td>\n",
       "      <td>35000</td>\n",
       "      <td>35000</td>\n",
       "      <td>60</td>\n",
       "      <td>14.85</td>\n",
       "      <td>829.90</td>\n",
       "      <td>C</td>\n",
       "      <td>C5</td>\n",
       "      <td>MORTGAGE</td>\n",
       "      <td>110000.0</td>\n",
       "      <td>...</td>\n",
       "      <td>100.0</td>\n",
       "      <td>0</td>\n",
       "      <td>0</td>\n",
       "      <td>381215</td>\n",
       "      <td>52226</td>\n",
       "      <td>62500</td>\n",
       "      <td>18000</td>\n",
       "      <td>N</td>\n",
       "      <td>Cash</td>\n",
       "      <td>N</td>\n",
       "    </tr>\n",
       "    <tr>\n",
       "      <th>4</th>\n",
       "      <td>68476807</td>\n",
       "      <td>10400</td>\n",
       "      <td>10400</td>\n",
       "      <td>60</td>\n",
       "      <td>22.45</td>\n",
       "      <td>289.91</td>\n",
       "      <td>F</td>\n",
       "      <td>F1</td>\n",
       "      <td>MORTGAGE</td>\n",
       "      <td>104433.0</td>\n",
       "      <td>...</td>\n",
       "      <td>96.6</td>\n",
       "      <td>0</td>\n",
       "      <td>0</td>\n",
       "      <td>439570</td>\n",
       "      <td>95768</td>\n",
       "      <td>20300</td>\n",
       "      <td>88097</td>\n",
       "      <td>N</td>\n",
       "      <td>Cash</td>\n",
       "      <td>N</td>\n",
       "    </tr>\n",
       "  </tbody>\n",
       "</table>\n",
       "<p>5 rows × 85 columns</p>\n",
       "</div>"
      ],
      "text/plain": [
       "         id  loan_amnt  funded_amnt_inv  term  int_rate  installment grade  \\\n",
       "0  68407277       3600             3600   36      13.99       123.03     C   \n",
       "1  68355089      24700            24700   36      11.99       820.28     C   \n",
       "2  68341763      20000            20000   60      10.78       432.66     B   \n",
       "3  66310712      35000            35000   60      14.85       829.90     C   \n",
       "4  68476807      10400            10400   60      22.45       289.91     F   \n",
       "\n",
       "  sub_grade home_ownership  annual_inc  ... pct_tl_nvr_dlq  \\\n",
       "0        C4       MORTGAGE     55000.0  ...           76.9   \n",
       "1        C1       MORTGAGE     65000.0  ...           97.4   \n",
       "2        B4       MORTGAGE     63000.0  ...          100.0   \n",
       "3        C5       MORTGAGE    110000.0  ...          100.0   \n",
       "4        F1       MORTGAGE    104433.0  ...           96.6   \n",
       "\n",
       "  pub_rec_bankruptcies tax_liens tot_hi_cred_lim total_bal_ex_mort  \\\n",
       "0                    0         0          178050              7746   \n",
       "1                    0         0          314017             39475   \n",
       "2                    0         0          218418             18696   \n",
       "3                    0         0          381215             52226   \n",
       "4                    0         0          439570             95768   \n",
       "\n",
       "  total_bc_limit total_il_high_credit_limit hardship_flag disbursement_method  \\\n",
       "0           2400                      13734             N                Cash   \n",
       "1          79300                      24667             N                Cash   \n",
       "2           6200                      14877             N                Cash   \n",
       "3          62500                      18000             N                Cash   \n",
       "4          20300                      88097             N                Cash   \n",
       "\n",
       "   debt_settlement_flag  \n",
       "0                     N  \n",
       "1                     N  \n",
       "2                     N  \n",
       "3                     N  \n",
       "4                     N  \n",
       "\n",
       "[5 rows x 85 columns]"
      ]
     },
     "execution_count": 14,
     "metadata": {},
     "output_type": "execute_result"
    }
   ],
   "source": [
    "new_data.head()"
   ]
  },
  {
   "cell_type": "code",
   "execution_count": 15,
   "metadata": {},
   "outputs": [
    {
     "data": {
      "text/plain": [
       "30"
      ]
     },
     "execution_count": 15,
     "metadata": {},
     "output_type": "execute_result"
    }
   ],
   "source": [
    "# I know from counting null values that the first 30 columns have no missing values as shown below\n",
    "# I am going to scan through the first 30 columns to see if they are usable for later analysis. If not, drop them. \n",
    "# Also, get value counts on each column to understand the dataset better\n",
    "\n",
    "\n",
    "new_data.columns.get_loc('initial_list_status')"
   ]
  },
  {
   "cell_type": "code",
   "execution_count": 16,
   "metadata": {},
   "outputs": [
    {
     "data": {
      "text/plain": [
       "MORTGAGE    14659\n",
       "RENT        11846\n",
       "OWN          3493\n",
       "ANY             1\n",
       "Name: home_ownership, dtype: int64"
      ]
     },
     "execution_count": 16,
     "metadata": {},
     "output_type": "execute_result"
    }
   ],
   "source": [
    "new_data['home_ownership'].value_counts()"
   ]
  },
  {
   "cell_type": "code",
   "execution_count": 17,
   "metadata": {},
   "outputs": [
    {
     "data": {
      "text/plain": [
       "Source Verified    12094\n",
       "Verified            9189\n",
       "Not Verified        8716\n",
       "Name: verification_status, dtype: int64"
      ]
     },
     "execution_count": 17,
     "metadata": {},
     "output_type": "execute_result"
    }
   ],
   "source": [
    "# looks like Source verified (source of income verified) and verified (only income verification) mean different things. I'll leave them alone. \n",
    "\n",
    "new_data['verification_status'].value_counts()"
   ]
  },
  {
   "cell_type": "code",
   "execution_count": 18,
   "metadata": {},
   "outputs": [
    {
     "data": {
      "text/plain": [
       "Fully Paid            21085\n",
       "Charged Off            5413\n",
       "Current                3256\n",
       "Late (31-120 days)      154\n",
       "In Grace Period          72\n",
       "Late (16-30 days)        19\n",
       "Name: loan_status, dtype: int64"
      ]
     },
     "execution_count": 18,
     "metadata": {},
     "output_type": "execute_result"
    }
   ],
   "source": [
    "# of the finalized loans only about 77% are paid off on time\n",
    "\n",
    "new_data['loan_status'].value_counts()"
   ]
  },
  {
   "cell_type": "code",
   "execution_count": 20,
   "metadata": {},
   "outputs": [
    {
     "data": {
      "text/plain": [
       "n    29996\n",
       "y        3\n",
       "Name: pymnt_plan, dtype: int64"
      ]
     },
     "execution_count": 20,
     "metadata": {},
     "output_type": "execute_result"
    }
   ],
   "source": [
    "new_data['pymnt_plan'].value_counts()"
   ]
  },
  {
   "cell_type": "code",
   "execution_count": 21,
   "metadata": {},
   "outputs": [],
   "source": [
    "# the url doesnt help out analysis. Dropped. \n",
    "\n",
    "new_data.drop(columns=['url'], axis=1, inplace=True)"
   ]
  },
  {
   "cell_type": "code",
   "execution_count": 22,
   "metadata": {},
   "outputs": [
    {
     "data": {
      "text/plain": [
       "(29999, 84)"
      ]
     },
     "execution_count": 22,
     "metadata": {},
     "output_type": "execute_result"
    }
   ],
   "source": [
    "new_data.shape"
   ]
  },
  {
   "cell_type": "code",
   "execution_count": 23,
   "metadata": {},
   "outputs": [
    {
     "name": "stdout",
     "output_type": "stream",
     "text": [
      "0\n",
      "132\n"
     ]
    }
   ],
   "source": [
    "# looks like purpose and title are the same thing. Lets see if they are\n",
    "\n",
    "print(new_data['purpose'].isnull().sum())\n",
    "print(new_data['title'].isnull().sum())\n",
    "\n",
    "# purpose looks like the main catagory with no missing values\n",
    "# are any contradictory? Need to investigate"
   ]
  },
  {
   "cell_type": "code",
   "execution_count": 24,
   "metadata": {},
   "outputs": [
    {
     "data": {
      "text/plain": [
       "['debt_consolidation',\n",
       " 'credit_card',\n",
       " 'home_improvement',\n",
       " 'other',\n",
       " 'major_purchase',\n",
       " 'medical',\n",
       " 'small_business',\n",
       " 'car',\n",
       " 'vacation',\n",
       " 'moving',\n",
       " 'house',\n",
       " 'renewable_energy']"
      ]
     },
     "execution_count": 24,
     "metadata": {},
     "output_type": "execute_result"
    }
   ],
   "source": [
    "purpose_labels = list(new_data['purpose'].value_counts().index)\n",
    "\n",
    "purpose_labels"
   ]
  },
  {
   "cell_type": "code",
   "execution_count": 25,
   "metadata": {},
   "outputs": [
    {
     "data": {
      "text/plain": [
       "['Debt consolidation',\n",
       " 'Credit card refinancing',\n",
       " 'Home improvement',\n",
       " 'Other',\n",
       " 'Major purchase',\n",
       " 'Medical expenses',\n",
       " 'Business',\n",
       " 'Car financing',\n",
       " 'Vacation',\n",
       " 'Moving and relocation',\n",
       " 'Home buying',\n",
       " 'Green loan']"
      ]
     },
     "execution_count": 25,
     "metadata": {},
     "output_type": "execute_result"
    }
   ],
   "source": [
    "title_labels = list(new_data['title'].value_counts().index)\n",
    "\n",
    "title_labels"
   ]
  },
  {
   "cell_type": "code",
   "execution_count": 26,
   "metadata": {},
   "outputs": [
    {
     "data": {
      "text/plain": [
       "'debt_consolidation'"
      ]
     },
     "execution_count": 26,
     "metadata": {},
     "output_type": "execute_result"
    }
   ],
   "source": [
    "new_data['purpose'][0]"
   ]
  },
  {
   "cell_type": "code",
   "execution_count": 27,
   "metadata": {},
   "outputs": [
    {
     "data": {
      "text/plain": [
       "'Debt consolidation'"
      ]
     },
     "execution_count": 27,
     "metadata": {},
     "output_type": "execute_result"
    }
   ],
   "source": [
    "new_data['title'][0]"
   ]
  },
  {
   "cell_type": "code",
   "execution_count": 28,
   "metadata": {},
   "outputs": [],
   "source": [
    "# review with Tony\n",
    "# filter new_data into each purpose catorgy then right for loop to confirm purpose matches title? seems like there is a better way\n",
    "\n",
    "#for i in len(new_data):\n",
    "#    if new_data['purpose'][0] == 'debt_consolidation' and new_data['title'][0] == 'Debt consolidation':\n",
    "#    return True\n",
    "    "
   ]
  },
  {
   "cell_type": "code",
   "execution_count": 29,
   "metadata": {},
   "outputs": [
    {
     "data": {
      "text/html": [
       "<div>\n",
       "<style scoped>\n",
       "    .dataframe tbody tr th:only-of-type {\n",
       "        vertical-align: middle;\n",
       "    }\n",
       "\n",
       "    .dataframe tbody tr th {\n",
       "        vertical-align: top;\n",
       "    }\n",
       "\n",
       "    .dataframe thead th {\n",
       "        text-align: right;\n",
       "    }\n",
       "</style>\n",
       "<table border=\"1\" class=\"dataframe\">\n",
       "  <thead>\n",
       "    <tr style=\"text-align: right;\">\n",
       "      <th></th>\n",
       "      <th>id</th>\n",
       "      <th>loan_amnt</th>\n",
       "      <th>funded_amnt_inv</th>\n",
       "      <th>term</th>\n",
       "      <th>int_rate</th>\n",
       "      <th>installment</th>\n",
       "      <th>grade</th>\n",
       "      <th>sub_grade</th>\n",
       "      <th>home_ownership</th>\n",
       "      <th>annual_inc</th>\n",
       "      <th>...</th>\n",
       "      <th>pct_tl_nvr_dlq</th>\n",
       "      <th>pub_rec_bankruptcies</th>\n",
       "      <th>tax_liens</th>\n",
       "      <th>tot_hi_cred_lim</th>\n",
       "      <th>total_bal_ex_mort</th>\n",
       "      <th>total_bc_limit</th>\n",
       "      <th>total_il_high_credit_limit</th>\n",
       "      <th>hardship_flag</th>\n",
       "      <th>disbursement_method</th>\n",
       "      <th>debt_settlement_flag</th>\n",
       "    </tr>\n",
       "  </thead>\n",
       "  <tbody>\n",
       "    <tr>\n",
       "      <th>0</th>\n",
       "      <td>68407277</td>\n",
       "      <td>3600</td>\n",
       "      <td>3600</td>\n",
       "      <td>36</td>\n",
       "      <td>13.99</td>\n",
       "      <td>123.03</td>\n",
       "      <td>C</td>\n",
       "      <td>C4</td>\n",
       "      <td>MORTGAGE</td>\n",
       "      <td>55000.0</td>\n",
       "      <td>...</td>\n",
       "      <td>76.9</td>\n",
       "      <td>0</td>\n",
       "      <td>0</td>\n",
       "      <td>178050</td>\n",
       "      <td>7746</td>\n",
       "      <td>2400</td>\n",
       "      <td>13734</td>\n",
       "      <td>N</td>\n",
       "      <td>Cash</td>\n",
       "      <td>N</td>\n",
       "    </tr>\n",
       "    <tr>\n",
       "      <th>1</th>\n",
       "      <td>68355089</td>\n",
       "      <td>24700</td>\n",
       "      <td>24700</td>\n",
       "      <td>36</td>\n",
       "      <td>11.99</td>\n",
       "      <td>820.28</td>\n",
       "      <td>C</td>\n",
       "      <td>C1</td>\n",
       "      <td>MORTGAGE</td>\n",
       "      <td>65000.0</td>\n",
       "      <td>...</td>\n",
       "      <td>97.4</td>\n",
       "      <td>0</td>\n",
       "      <td>0</td>\n",
       "      <td>314017</td>\n",
       "      <td>39475</td>\n",
       "      <td>79300</td>\n",
       "      <td>24667</td>\n",
       "      <td>N</td>\n",
       "      <td>Cash</td>\n",
       "      <td>N</td>\n",
       "    </tr>\n",
       "    <tr>\n",
       "      <th>2</th>\n",
       "      <td>68341763</td>\n",
       "      <td>20000</td>\n",
       "      <td>20000</td>\n",
       "      <td>60</td>\n",
       "      <td>10.78</td>\n",
       "      <td>432.66</td>\n",
       "      <td>B</td>\n",
       "      <td>B4</td>\n",
       "      <td>MORTGAGE</td>\n",
       "      <td>63000.0</td>\n",
       "      <td>...</td>\n",
       "      <td>100.0</td>\n",
       "      <td>0</td>\n",
       "      <td>0</td>\n",
       "      <td>218418</td>\n",
       "      <td>18696</td>\n",
       "      <td>6200</td>\n",
       "      <td>14877</td>\n",
       "      <td>N</td>\n",
       "      <td>Cash</td>\n",
       "      <td>N</td>\n",
       "    </tr>\n",
       "    <tr>\n",
       "      <th>3</th>\n",
       "      <td>66310712</td>\n",
       "      <td>35000</td>\n",
       "      <td>35000</td>\n",
       "      <td>60</td>\n",
       "      <td>14.85</td>\n",
       "      <td>829.90</td>\n",
       "      <td>C</td>\n",
       "      <td>C5</td>\n",
       "      <td>MORTGAGE</td>\n",
       "      <td>110000.0</td>\n",
       "      <td>...</td>\n",
       "      <td>100.0</td>\n",
       "      <td>0</td>\n",
       "      <td>0</td>\n",
       "      <td>381215</td>\n",
       "      <td>52226</td>\n",
       "      <td>62500</td>\n",
       "      <td>18000</td>\n",
       "      <td>N</td>\n",
       "      <td>Cash</td>\n",
       "      <td>N</td>\n",
       "    </tr>\n",
       "    <tr>\n",
       "      <th>4</th>\n",
       "      <td>68476807</td>\n",
       "      <td>10400</td>\n",
       "      <td>10400</td>\n",
       "      <td>60</td>\n",
       "      <td>22.45</td>\n",
       "      <td>289.91</td>\n",
       "      <td>F</td>\n",
       "      <td>F1</td>\n",
       "      <td>MORTGAGE</td>\n",
       "      <td>104433.0</td>\n",
       "      <td>...</td>\n",
       "      <td>96.6</td>\n",
       "      <td>0</td>\n",
       "      <td>0</td>\n",
       "      <td>439570</td>\n",
       "      <td>95768</td>\n",
       "      <td>20300</td>\n",
       "      <td>88097</td>\n",
       "      <td>N</td>\n",
       "      <td>Cash</td>\n",
       "      <td>N</td>\n",
       "    </tr>\n",
       "  </tbody>\n",
       "</table>\n",
       "<p>5 rows × 84 columns</p>\n",
       "</div>"
      ],
      "text/plain": [
       "         id  loan_amnt  funded_amnt_inv  term  int_rate  installment grade  \\\n",
       "0  68407277       3600             3600   36      13.99       123.03     C   \n",
       "1  68355089      24700            24700   36      11.99       820.28     C   \n",
       "2  68341763      20000            20000   60      10.78       432.66     B   \n",
       "3  66310712      35000            35000   60      14.85       829.90     C   \n",
       "4  68476807      10400            10400   60      22.45       289.91     F   \n",
       "\n",
       "  sub_grade home_ownership  annual_inc  ... pct_tl_nvr_dlq  \\\n",
       "0        C4       MORTGAGE     55000.0  ...           76.9   \n",
       "1        C1       MORTGAGE     65000.0  ...           97.4   \n",
       "2        B4       MORTGAGE     63000.0  ...          100.0   \n",
       "3        C5       MORTGAGE    110000.0  ...          100.0   \n",
       "4        F1       MORTGAGE    104433.0  ...           96.6   \n",
       "\n",
       "  pub_rec_bankruptcies tax_liens tot_hi_cred_lim total_bal_ex_mort  \\\n",
       "0                    0         0          178050              7746   \n",
       "1                    0         0          314017             39475   \n",
       "2                    0         0          218418             18696   \n",
       "3                    0         0          381215             52226   \n",
       "4                    0         0          439570             95768   \n",
       "\n",
       "  total_bc_limit total_il_high_credit_limit hardship_flag  \\\n",
       "0           2400                      13734             N   \n",
       "1          79300                      24667             N   \n",
       "2           6200                      14877             N   \n",
       "3          62500                      18000             N   \n",
       "4          20300                      88097             N   \n",
       "\n",
       "   disbursement_method  debt_settlement_flag  \n",
       "0                 Cash                     N  \n",
       "1                 Cash                     N  \n",
       "2                 Cash                     N  \n",
       "3                 Cash                     N  \n",
       "4                 Cash                     N  \n",
       "\n",
       "[5 rows x 84 columns]"
      ]
     },
     "execution_count": 29,
     "metadata": {},
     "output_type": "execute_result"
    }
   ],
   "source": [
    "new_data.head()"
   ]
  },
  {
   "cell_type": "code",
   "execution_count": 30,
   "metadata": {},
   "outputs": [],
   "source": [
    "# debt to income ratio\n",
    "# there are some outliers here. Delete the row with 999\n",
    "\n",
    "new_data['dti'].describe()\n",
    "\n",
    "new_data.drop(new_data.index[new_data[new_data['dti'] == 999].index], inplace=True)"
   ]
  },
  {
   "cell_type": "code",
   "execution_count": 31,
   "metadata": {},
   "outputs": [
    {
     "data": {
      "text/plain": [
       "(29998, 84)"
      ]
     },
     "execution_count": 31,
     "metadata": {},
     "output_type": "execute_result"
    }
   ],
   "source": [
    "new_data.shape"
   ]
  },
  {
   "cell_type": "code",
   "execution_count": 32,
   "metadata": {},
   "outputs": [
    {
     "data": {
      "text/plain": [
       "count    29997.000000\n",
       "mean        19.376179\n",
       "std          8.855084\n",
       "min          0.000000\n",
       "25%         12.700000\n",
       "50%         18.890000\n",
       "75%         25.670000\n",
       "max        137.400000\n",
       "Name: dti, dtype: float64"
      ]
     },
     "execution_count": 32,
     "metadata": {},
     "output_type": "execute_result"
    }
   ],
   "source": [
    "new_data['dti'].describe()"
   ]
  },
  {
   "cell_type": "code",
   "execution_count": 33,
   "metadata": {},
   "outputs": [],
   "source": [
    "dti_sorted = new_data['dti'].sort_values()\n",
    "x = list(range(len(dti_sorted)))"
   ]
  },
  {
   "cell_type": "code",
   "execution_count": 34,
   "metadata": {},
   "outputs": [
    {
     "data": {
      "image/png": "[encoded data removed]",
      "text/plain": [
       "<Figure size 432x288 with 1 Axes>"
      ]
     },
     "metadata": {
      "needs_background": "light"
     },
     "output_type": "display_data"
    }
   ],
   "source": [
    "plt.plot(x,dti_sorted)\n",
    "plt.xlabel('')\n",
    "plt.ylabel('Debt to Income Ratio')\n",
    "plt.show()"
   ]
  },
  {
   "cell_type": "code",
   "execution_count": 35,
   "metadata": {},
   "outputs": [],
   "source": [
    "#Anthing over 50 looks to be outliers and more than likely a typo / not real. Drop rows from dataset.\n",
    "over_45_df = new_data.loc[new_data['dti'] > 45]"
   ]
  },
  {
   "cell_type": "code",
   "execution_count": 36,
   "metadata": {},
   "outputs": [
    {
     "name": "stdout",
     "output_type": "stream",
     "text": [
      "664       46.71\n",
      "2706      51.20\n",
      "3773      48.56\n",
      "4526      83.64\n",
      "5234      55.06\n",
      "10023     83.40\n",
      "10459     47.31\n",
      "10548    137.40\n",
      "10925     47.06\n",
      "11879     89.83\n",
      "13700    136.97\n",
      "16964     52.80\n",
      "17618     48.48\n",
      "18656     46.92\n",
      "19523     58.54\n",
      "19803     59.18\n",
      "19891     45.58\n",
      "19902     46.67\n",
      "20246     45.78\n",
      "20867     59.26\n",
      "22841    100.09\n",
      "24340     68.41\n",
      "25472     45.32\n",
      "26167     52.45\n",
      "27621     90.00\n",
      "Name: dti, dtype: float64\n"
     ]
    }
   ],
   "source": [
    "print(over_45_df['dti'])"
   ]
  },
  {
   "cell_type": "code",
   "execution_count": 43,
   "metadata": {},
   "outputs": [],
   "source": [
    "df = new_data[new_data.dti < 45]"
   ]
  },
  {
   "cell_type": "code",
   "execution_count": 44,
   "metadata": {},
   "outputs": [
    {
     "data": {
      "text/plain": [
       "(29972, 84)"
      ]
     },
     "execution_count": 44,
     "metadata": {},
     "output_type": "execute_result"
    }
   ],
   "source": [
    "df.shape"
   ]
  },
  {
   "cell_type": "code",
   "execution_count": 45,
   "metadata": {},
   "outputs": [
    {
     "data": {
      "text/plain": [
       "count    29972.000000\n",
       "mean        19.337402\n",
       "std          8.722780\n",
       "min          0.000000\n",
       "25%         12.700000\n",
       "50%         18.880000\n",
       "75%         25.650000\n",
       "max         44.860000\n",
       "Name: dti, dtype: float64"
      ]
     },
     "execution_count": 45,
     "metadata": {},
     "output_type": "execute_result"
    }
   ],
   "source": [
    "df['dti'].describe()"
   ]
  },
  {
   "cell_type": "code",
   "execution_count": 46,
   "metadata": {},
   "outputs": [],
   "source": [
    "small_dti_df = df[df['dti'] > 0.05]"
   ]
  },
  {
   "cell_type": "code",
   "execution_count": 47,
   "metadata": {},
   "outputs": [
    {
     "data": {
      "text/plain": [
       "count    29960.000000\n",
       "mean        19.345145\n",
       "std          8.715941\n",
       "min          0.070000\n",
       "25%         12.700000\n",
       "50%         18.885000\n",
       "75%         25.650000\n",
       "max         44.860000\n",
       "Name: dti, dtype: float64"
      ]
     },
     "execution_count": 47,
     "metadata": {},
     "output_type": "execute_result"
    }
   ],
   "source": [
    "# you cant have infinite debt/income. Remove from dataset. \n",
    "\n",
    "small_dti_df['dti'].describe()"
   ]
  },
  {
   "cell_type": "code",
   "execution_count": 48,
   "metadata": {},
   "outputs": [
    {
     "data": {
      "image/png": "[encoded data removed]",
      "text/plain": [
       "<Figure size 432x288 with 1 Axes>"
      ]
     },
     "metadata": {
      "needs_background": "light"
     },
     "output_type": "display_data"
    }
   ],
   "source": [
    "x = list(range(len(small_dti_df)))\n",
    "\n",
    "plt.plot(x, sorted(small_dti_df['dti']))\n",
    "plt.xlabel('')\n",
    "plt.ylabel('Debt to Income Ratio')\n",
    "plt.show()"
   ]
  },
  {
   "cell_type": "code",
   "execution_count": 49,
   "metadata": {},
   "outputs": [
    {
     "data": {
      "text/html": [
       "<div>\n",
       "<style scoped>\n",
       "    .dataframe tbody tr th:only-of-type {\n",
       "        vertical-align: middle;\n",
       "    }\n",
       "\n",
       "    .dataframe tbody tr th {\n",
       "        vertical-align: top;\n",
       "    }\n",
       "\n",
       "    .dataframe thead th {\n",
       "        text-align: right;\n",
       "    }\n",
       "</style>\n",
       "<table border=\"1\" class=\"dataframe\">\n",
       "  <thead>\n",
       "    <tr style=\"text-align: right;\">\n",
       "      <th></th>\n",
       "      <th>id</th>\n",
       "      <th>loan_amnt</th>\n",
       "      <th>funded_amnt_inv</th>\n",
       "      <th>term</th>\n",
       "      <th>int_rate</th>\n",
       "      <th>installment</th>\n",
       "      <th>grade</th>\n",
       "      <th>sub_grade</th>\n",
       "      <th>home_ownership</th>\n",
       "      <th>annual_inc</th>\n",
       "      <th>...</th>\n",
       "      <th>pct_tl_nvr_dlq</th>\n",
       "      <th>pub_rec_bankruptcies</th>\n",
       "      <th>tax_liens</th>\n",
       "      <th>tot_hi_cred_lim</th>\n",
       "      <th>total_bal_ex_mort</th>\n",
       "      <th>total_bc_limit</th>\n",
       "      <th>total_il_high_credit_limit</th>\n",
       "      <th>hardship_flag</th>\n",
       "      <th>disbursement_method</th>\n",
       "      <th>debt_settlement_flag</th>\n",
       "    </tr>\n",
       "  </thead>\n",
       "  <tbody>\n",
       "    <tr>\n",
       "      <th>0</th>\n",
       "      <td>68407277</td>\n",
       "      <td>3600</td>\n",
       "      <td>3600</td>\n",
       "      <td>36</td>\n",
       "      <td>13.99</td>\n",
       "      <td>123.03</td>\n",
       "      <td>C</td>\n",
       "      <td>C4</td>\n",
       "      <td>MORTGAGE</td>\n",
       "      <td>55000.0</td>\n",
       "      <td>...</td>\n",
       "      <td>76.9</td>\n",
       "      <td>0</td>\n",
       "      <td>0</td>\n",
       "      <td>178050</td>\n",
       "      <td>7746</td>\n",
       "      <td>2400</td>\n",
       "      <td>13734</td>\n",
       "      <td>N</td>\n",
       "      <td>Cash</td>\n",
       "      <td>N</td>\n",
       "    </tr>\n",
       "    <tr>\n",
       "      <th>1</th>\n",
       "      <td>68355089</td>\n",
       "      <td>24700</td>\n",
       "      <td>24700</td>\n",
       "      <td>36</td>\n",
       "      <td>11.99</td>\n",
       "      <td>820.28</td>\n",
       "      <td>C</td>\n",
       "      <td>C1</td>\n",
       "      <td>MORTGAGE</td>\n",
       "      <td>65000.0</td>\n",
       "      <td>...</td>\n",
       "      <td>97.4</td>\n",
       "      <td>0</td>\n",
       "      <td>0</td>\n",
       "      <td>314017</td>\n",
       "      <td>39475</td>\n",
       "      <td>79300</td>\n",
       "      <td>24667</td>\n",
       "      <td>N</td>\n",
       "      <td>Cash</td>\n",
       "      <td>N</td>\n",
       "    </tr>\n",
       "    <tr>\n",
       "      <th>2</th>\n",
       "      <td>68341763</td>\n",
       "      <td>20000</td>\n",
       "      <td>20000</td>\n",
       "      <td>60</td>\n",
       "      <td>10.78</td>\n",
       "      <td>432.66</td>\n",
       "      <td>B</td>\n",
       "      <td>B4</td>\n",
       "      <td>MORTGAGE</td>\n",
       "      <td>63000.0</td>\n",
       "      <td>...</td>\n",
       "      <td>100.0</td>\n",
       "      <td>0</td>\n",
       "      <td>0</td>\n",
       "      <td>218418</td>\n",
       "      <td>18696</td>\n",
       "      <td>6200</td>\n",
       "      <td>14877</td>\n",
       "      <td>N</td>\n",
       "      <td>Cash</td>\n",
       "      <td>N</td>\n",
       "    </tr>\n",
       "    <tr>\n",
       "      <th>3</th>\n",
       "      <td>66310712</td>\n",
       "      <td>35000</td>\n",
       "      <td>35000</td>\n",
       "      <td>60</td>\n",
       "      <td>14.85</td>\n",
       "      <td>829.90</td>\n",
       "      <td>C</td>\n",
       "      <td>C5</td>\n",
       "      <td>MORTGAGE</td>\n",
       "      <td>110000.0</td>\n",
       "      <td>...</td>\n",
       "      <td>100.0</td>\n",
       "      <td>0</td>\n",
       "      <td>0</td>\n",
       "      <td>381215</td>\n",
       "      <td>52226</td>\n",
       "      <td>62500</td>\n",
       "      <td>18000</td>\n",
       "      <td>N</td>\n",
       "      <td>Cash</td>\n",
       "      <td>N</td>\n",
       "    </tr>\n",
       "    <tr>\n",
       "      <th>4</th>\n",
       "      <td>68476807</td>\n",
       "      <td>10400</td>\n",
       "      <td>10400</td>\n",
       "      <td>60</td>\n",
       "      <td>22.45</td>\n",
       "      <td>289.91</td>\n",
       "      <td>F</td>\n",
       "      <td>F1</td>\n",
       "      <td>MORTGAGE</td>\n",
       "      <td>104433.0</td>\n",
       "      <td>...</td>\n",
       "      <td>96.6</td>\n",
       "      <td>0</td>\n",
       "      <td>0</td>\n",
       "      <td>439570</td>\n",
       "      <td>95768</td>\n",
       "      <td>20300</td>\n",
       "      <td>88097</td>\n",
       "      <td>N</td>\n",
       "      <td>Cash</td>\n",
       "      <td>N</td>\n",
       "    </tr>\n",
       "  </tbody>\n",
       "</table>\n",
       "<p>5 rows × 84 columns</p>\n",
       "</div>"
      ],
      "text/plain": [
       "         id  loan_amnt  funded_amnt_inv  term  int_rate  installment grade  \\\n",
       "0  68407277       3600             3600   36      13.99       123.03     C   \n",
       "1  68355089      24700            24700   36      11.99       820.28     C   \n",
       "2  68341763      20000            20000   60      10.78       432.66     B   \n",
       "3  66310712      35000            35000   60      14.85       829.90     C   \n",
       "4  68476807      10400            10400   60      22.45       289.91     F   \n",
       "\n",
       "  sub_grade home_ownership  annual_inc  ... pct_tl_nvr_dlq  \\\n",
       "0        C4       MORTGAGE     55000.0  ...           76.9   \n",
       "1        C1       MORTGAGE     65000.0  ...           97.4   \n",
       "2        B4       MORTGAGE     63000.0  ...          100.0   \n",
       "3        C5       MORTGAGE    110000.0  ...          100.0   \n",
       "4        F1       MORTGAGE    104433.0  ...           96.6   \n",
       "\n",
       "  pub_rec_bankruptcies tax_liens tot_hi_cred_lim total_bal_ex_mort  \\\n",
       "0                    0         0          178050              7746   \n",
       "1                    0         0          314017             39475   \n",
       "2                    0         0          218418             18696   \n",
       "3                    0         0          381215             52226   \n",
       "4                    0         0          439570             95768   \n",
       "\n",
       "  total_bc_limit total_il_high_credit_limit hardship_flag  \\\n",
       "0           2400                      13734             N   \n",
       "1          79300                      24667             N   \n",
       "2           6200                      14877             N   \n",
       "3          62500                      18000             N   \n",
       "4          20300                      88097             N   \n",
       "\n",
       "   disbursement_method  debt_settlement_flag  \n",
       "0                 Cash                     N  \n",
       "1                 Cash                     N  \n",
       "2                 Cash                     N  \n",
       "3                 Cash                     N  \n",
       "4                 Cash                     N  \n",
       "\n",
       "[5 rows x 84 columns]"
      ]
     },
     "execution_count": 49,
     "metadata": {},
     "output_type": "execute_result"
    }
   ],
   "source": [
    "small_dti_df.head()"
   ]
  },
  {
   "cell_type": "code",
   "execution_count": 50,
   "metadata": {},
   "outputs": [
    {
     "data": {
      "text/html": [
       "<div>\n",
       "<style scoped>\n",
       "    .dataframe tbody tr th:only-of-type {\n",
       "        vertical-align: middle;\n",
       "    }\n",
       "\n",
       "    .dataframe tbody tr th {\n",
       "        vertical-align: top;\n",
       "    }\n",
       "\n",
       "    .dataframe thead th {\n",
       "        text-align: right;\n",
       "    }\n",
       "</style>\n",
       "<table border=\"1\" class=\"dataframe\">\n",
       "  <thead>\n",
       "    <tr style=\"text-align: right;\">\n",
       "      <th></th>\n",
       "      <th>id</th>\n",
       "      <th>loan_amnt</th>\n",
       "      <th>funded_amnt_inv</th>\n",
       "      <th>int_rate</th>\n",
       "      <th>installment</th>\n",
       "      <th>annual_inc</th>\n",
       "      <th>dti</th>\n",
       "      <th>delinq_2yrs</th>\n",
       "      <th>fico_range_low</th>\n",
       "      <th>fico_range_high</th>\n",
       "      <th>...</th>\n",
       "      <th>num_tl_30dpd</th>\n",
       "      <th>num_tl_90g_dpd_24m</th>\n",
       "      <th>num_tl_op_past_12m</th>\n",
       "      <th>pct_tl_nvr_dlq</th>\n",
       "      <th>pub_rec_bankruptcies</th>\n",
       "      <th>tax_liens</th>\n",
       "      <th>tot_hi_cred_lim</th>\n",
       "      <th>total_bal_ex_mort</th>\n",
       "      <th>total_bc_limit</th>\n",
       "      <th>total_il_high_credit_limit</th>\n",
       "    </tr>\n",
       "  </thead>\n",
       "  <tbody>\n",
       "    <tr>\n",
       "      <th>count</th>\n",
       "      <td>2.996000e+04</td>\n",
       "      <td>29960.000000</td>\n",
       "      <td>29960.000000</td>\n",
       "      <td>29960.000000</td>\n",
       "      <td>29960.000000</td>\n",
       "      <td>2.996000e+04</td>\n",
       "      <td>29960.000000</td>\n",
       "      <td>29960.000000</td>\n",
       "      <td>29960.000000</td>\n",
       "      <td>29960.000000</td>\n",
       "      <td>...</td>\n",
       "      <td>29960.000000</td>\n",
       "      <td>29960.000000</td>\n",
       "      <td>29960.000000</td>\n",
       "      <td>29960.000000</td>\n",
       "      <td>29960.000000</td>\n",
       "      <td>29960.000000</td>\n",
       "      <td>2.996000e+04</td>\n",
       "      <td>29960.000000</td>\n",
       "      <td>29960.000000</td>\n",
       "      <td>29960.000000</td>\n",
       "    </tr>\n",
       "    <tr>\n",
       "      <th>mean</th>\n",
       "      <td>6.726355e+07</td>\n",
       "      <td>14999.434246</td>\n",
       "      <td>14991.376836</td>\n",
       "      <td>12.237029</td>\n",
       "      <td>434.313695</td>\n",
       "      <td>7.880571e+04</td>\n",
       "      <td>19.345145</td>\n",
       "      <td>0.336983</td>\n",
       "      <td>694.861649</td>\n",
       "      <td>698.861816</td>\n",
       "      <td>...</td>\n",
       "      <td>0.003304</td>\n",
       "      <td>0.089519</td>\n",
       "      <td>2.256108</td>\n",
       "      <td>93.929993</td>\n",
       "      <td>0.134680</td>\n",
       "      <td>0.068825</td>\n",
       "      <td>1.780830e+05</td>\n",
       "      <td>53829.864219</td>\n",
       "      <td>22675.114753</td>\n",
       "      <td>45880.838318</td>\n",
       "    </tr>\n",
       "    <tr>\n",
       "      <th>std</th>\n",
       "      <td>1.942714e+06</td>\n",
       "      <td>8709.336762</td>\n",
       "      <td>8703.721935</td>\n",
       "      <td>4.207048</td>\n",
       "      <td>248.671425</td>\n",
       "      <td>8.240831e+04</td>\n",
       "      <td>8.715941</td>\n",
       "      <td>0.891224</td>\n",
       "      <td>31.181145</td>\n",
       "      <td>31.181951</td>\n",
       "      <td>...</td>\n",
       "      <td>0.058542</td>\n",
       "      <td>0.490774</td>\n",
       "      <td>1.909934</td>\n",
       "      <td>8.894526</td>\n",
       "      <td>0.382778</td>\n",
       "      <td>0.439545</td>\n",
       "      <td>1.749005e+05</td>\n",
       "      <td>49375.994805</td>\n",
       "      <td>22363.078182</td>\n",
       "      <td>44952.419272</td>\n",
       "    </tr>\n",
       "    <tr>\n",
       "      <th>min</th>\n",
       "      <td>3.617740e+05</td>\n",
       "      <td>1000.000000</td>\n",
       "      <td>950.000000</td>\n",
       "      <td>5.320000</td>\n",
       "      <td>30.540000</td>\n",
       "      <td>3.800000e+03</td>\n",
       "      <td>0.070000</td>\n",
       "      <td>0.000000</td>\n",
       "      <td>660.000000</td>\n",
       "      <td>664.000000</td>\n",
       "      <td>...</td>\n",
       "      <td>0.000000</td>\n",
       "      <td>0.000000</td>\n",
       "      <td>0.000000</td>\n",
       "      <td>12.500000</td>\n",
       "      <td>0.000000</td>\n",
       "      <td>0.000000</td>\n",
       "      <td>2.500000e+03</td>\n",
       "      <td>2.000000</td>\n",
       "      <td>0.000000</td>\n",
       "      <td>0.000000</td>\n",
       "    </tr>\n",
       "    <tr>\n",
       "      <th>25%</th>\n",
       "      <td>6.658287e+07</td>\n",
       "      <td>8000.000000</td>\n",
       "      <td>8000.000000</td>\n",
       "      <td>9.170000</td>\n",
       "      <td>255.030000</td>\n",
       "      <td>4.800000e+04</td>\n",
       "      <td>12.700000</td>\n",
       "      <td>0.000000</td>\n",
       "      <td>670.000000</td>\n",
       "      <td>674.000000</td>\n",
       "      <td>...</td>\n",
       "      <td>0.000000</td>\n",
       "      <td>0.000000</td>\n",
       "      <td>1.000000</td>\n",
       "      <td>90.900000</td>\n",
       "      <td>0.000000</td>\n",
       "      <td>0.000000</td>\n",
       "      <td>5.320675e+04</td>\n",
       "      <td>23421.750000</td>\n",
       "      <td>8000.000000</td>\n",
       "      <td>16946.500000</td>\n",
       "    </tr>\n",
       "    <tr>\n",
       "      <th>50%</th>\n",
       "      <td>6.736513e+07</td>\n",
       "      <td>13950.000000</td>\n",
       "      <td>13850.000000</td>\n",
       "      <td>11.990000</td>\n",
       "      <td>378.150000</td>\n",
       "      <td>6.700000e+04</td>\n",
       "      <td>18.885000</td>\n",
       "      <td>0.000000</td>\n",
       "      <td>690.000000</td>\n",
       "      <td>694.000000</td>\n",
       "      <td>...</td>\n",
       "      <td>0.000000</td>\n",
       "      <td>0.000000</td>\n",
       "      <td>2.000000</td>\n",
       "      <td>97.400000</td>\n",
       "      <td>0.000000</td>\n",
       "      <td>0.000000</td>\n",
       "      <td>1.165830e+05</td>\n",
       "      <td>41040.000000</td>\n",
       "      <td>15700.000000</td>\n",
       "      <td>35158.000000</td>\n",
       "    </tr>\n",
       "    <tr>\n",
       "      <th>75%</th>\n",
       "      <td>6.791957e+07</td>\n",
       "      <td>20000.000000</td>\n",
       "      <td>20000.000000</td>\n",
       "      <td>14.480000</td>\n",
       "      <td>574.397500</td>\n",
       "      <td>9.500000e+04</td>\n",
       "      <td>25.650000</td>\n",
       "      <td>0.000000</td>\n",
       "      <td>710.000000</td>\n",
       "      <td>714.000000</td>\n",
       "      <td>...</td>\n",
       "      <td>0.000000</td>\n",
       "      <td>0.000000</td>\n",
       "      <td>3.000000</td>\n",
       "      <td>100.000000</td>\n",
       "      <td>0.000000</td>\n",
       "      <td>0.000000</td>\n",
       "      <td>2.578760e+05</td>\n",
       "      <td>68276.250000</td>\n",
       "      <td>29600.000000</td>\n",
       "      <td>61630.250000</td>\n",
       "    </tr>\n",
       "    <tr>\n",
       "      <th>max</th>\n",
       "      <td>6.861706e+07</td>\n",
       "      <td>35000.000000</td>\n",
       "      <td>35000.000000</td>\n",
       "      <td>28.990000</td>\n",
       "      <td>1354.660000</td>\n",
       "      <td>8.700000e+06</td>\n",
       "      <td>44.860000</td>\n",
       "      <td>15.000000</td>\n",
       "      <td>845.000000</td>\n",
       "      <td>850.000000</td>\n",
       "      <td>...</td>\n",
       "      <td>2.000000</td>\n",
       "      <td>13.000000</td>\n",
       "      <td>30.000000</td>\n",
       "      <td>100.000000</td>\n",
       "      <td>8.000000</td>\n",
       "      <td>22.000000</td>\n",
       "      <td>2.885999e+06</td>\n",
       "      <td>878659.000000</td>\n",
       "      <td>303000.000000</td>\n",
       "      <td>657179.000000</td>\n",
       "    </tr>\n",
       "  </tbody>\n",
       "</table>\n",
       "<p>8 rows × 64 columns</p>\n",
       "</div>"
      ],
      "text/plain": [
       "                 id     loan_amnt  funded_amnt_inv      int_rate  \\\n",
       "count  2.996000e+04  29960.000000     29960.000000  29960.000000   \n",
       "mean   6.726355e+07  14999.434246     14991.376836     12.237029   \n",
       "std    1.942714e+06   8709.336762      8703.721935      4.207048   \n",
       "min    3.617740e+05   1000.000000       950.000000      5.320000   \n",
       "25%    6.658287e+07   8000.000000      8000.000000      9.170000   \n",
       "50%    6.736513e+07  13950.000000     13850.000000     11.990000   \n",
       "75%    6.791957e+07  20000.000000     20000.000000     14.480000   \n",
       "max    6.861706e+07  35000.000000     35000.000000     28.990000   \n",
       "\n",
       "        installment    annual_inc           dti   delinq_2yrs  fico_range_low  \\\n",
       "count  29960.000000  2.996000e+04  29960.000000  29960.000000    29960.000000   \n",
       "mean     434.313695  7.880571e+04     19.345145      0.336983      694.861649   \n",
       "std      248.671425  8.240831e+04      8.715941      0.891224       31.181145   \n",
       "min       30.540000  3.800000e+03      0.070000      0.000000      660.000000   \n",
       "25%      255.030000  4.800000e+04     12.700000      0.000000      670.000000   \n",
       "50%      378.150000  6.700000e+04     18.885000      0.000000      690.000000   \n",
       "75%      574.397500  9.500000e+04     25.650000      0.000000      710.000000   \n",
       "max     1354.660000  8.700000e+06     44.860000     15.000000      845.000000   \n",
       "\n",
       "       fico_range_high  ...  num_tl_30dpd  num_tl_90g_dpd_24m  \\\n",
       "count     29960.000000  ...  29960.000000        29960.000000   \n",
       "mean        698.861816  ...      0.003304            0.089519   \n",
       "std          31.181951  ...      0.058542            0.490774   \n",
       "min         664.000000  ...      0.000000            0.000000   \n",
       "25%         674.000000  ...      0.000000            0.000000   \n",
       "50%         694.000000  ...      0.000000            0.000000   \n",
       "75%         714.000000  ...      0.000000            0.000000   \n",
       "max         850.000000  ...      2.000000           13.000000   \n",
       "\n",
       "       num_tl_op_past_12m  pct_tl_nvr_dlq  pub_rec_bankruptcies     tax_liens  \\\n",
       "count        29960.000000    29960.000000          29960.000000  29960.000000   \n",
       "mean             2.256108       93.929993              0.134680      0.068825   \n",
       "std              1.909934        8.894526              0.382778      0.439545   \n",
       "min              0.000000       12.500000              0.000000      0.000000   \n",
       "25%              1.000000       90.900000              0.000000      0.000000   \n",
       "50%              2.000000       97.400000              0.000000      0.000000   \n",
       "75%              3.000000      100.000000              0.000000      0.000000   \n",
       "max             30.000000      100.000000              8.000000     22.000000   \n",
       "\n",
       "       tot_hi_cred_lim  total_bal_ex_mort  total_bc_limit  \\\n",
       "count     2.996000e+04       29960.000000    29960.000000   \n",
       "mean      1.780830e+05       53829.864219    22675.114753   \n",
       "std       1.749005e+05       49375.994805    22363.078182   \n",
       "min       2.500000e+03           2.000000        0.000000   \n",
       "25%       5.320675e+04       23421.750000     8000.000000   \n",
       "50%       1.165830e+05       41040.000000    15700.000000   \n",
       "75%       2.578760e+05       68276.250000    29600.000000   \n",
       "max       2.885999e+06      878659.000000   303000.000000   \n",
       "\n",
       "       total_il_high_credit_limit  \n",
       "count                29960.000000  \n",
       "mean                 45880.838318  \n",
       "std                  44952.419272  \n",
       "min                      0.000000  \n",
       "25%                  16946.500000  \n",
       "50%                  35158.000000  \n",
       "75%                  61630.250000  \n",
       "max                 657179.000000  \n",
       "\n",
       "[8 rows x 64 columns]"
      ]
     },
     "execution_count": 50,
     "metadata": {},
     "output_type": "execute_result"
    }
   ],
   "source": [
    "small_dti_df.describe()"
   ]
  },
  {
   "cell_type": "code",
   "execution_count": null,
   "metadata": {},
   "outputs": [],
   "source": []
  }
 ],
 "metadata": {
  "kernelspec": {
   "display_name": "Python 3",
   "language": "python",
   "name": "python3"
  },
  "language_info": {
   "codemirror_mode": {
    "name": "ipython",
    "version": 3
   },
   "file_extension": ".py",
   "mimetype": "text/x-python",
   "name": "python",
   "nbconvert_exporter": "python",
   "pygments_lexer": "ipython3",
   "version": "3.8.3"
  }
 },
 "nbformat": 4,
 "nbformat_minor": 4
}
